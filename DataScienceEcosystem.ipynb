{
 "cells": [
  {
   "cell_type": "markdown",
   "id": "ace23059-25f3-4bb9-9ad8-b3c53b11739d",
   "metadata": {},
   "source": [
    "# Data Science Tools and Ecosystem"
   ]
  },
  {
   "cell_type": "markdown",
   "id": "6badf647-a7e3-42a6-ba7c-d09cc8efb4ec",
   "metadata": {},
   "source": [
    "## Author:\n",
    "Ketan Goud"
   ]
  },
  {
   "cell_type": "markdown",
   "id": "7f8ac350-0523-4e0a-bab8-8c1717ca4d83",
   "metadata": {},
   "source": [
    "In this notebook, Data Science Tools and Ecosystem are summarized."
   ]
  },
  {
   "cell_type": "markdown",
   "id": "ef717b71-d860-4cdd-8048-4d65a63c466b",
   "metadata": {},
   "source": [
    "Some of the popular languages that Data Scientists use are:\n",
    "1. Python\n",
    "2. R\n",
    "3. Julia"
   ]
  },
  {
   "cell_type": "markdown",
   "id": "098f7cb9-2ddf-4776-8667-1cff1547ca7d",
   "metadata": {},
   "source": [
    "__Objectives:__\n",
    "- Create a Jupyter Notebook\n",
    "- Insert code and markdown cells\n",
    "- Share your notebook through GitHub"
   ]
  },
  {
   "cell_type": "markdown",
   "id": "1745715e-0196-4425-9bb7-8a3543a80538",
   "metadata": {},
   "source": [
    "Some of the commonly used libraries used by Data Scientists include:\n",
    "1. Tensorflow\n",
    "2. Keras\n",
    "3. Matplotlib"
   ]
  },
  {
   "cell_type": "markdown",
   "id": "1a18aa46-cb2b-494c-86de-ff332546deda",
   "metadata": {},
   "source": [
    "| Data Science Tools |\n",
    "|:-------------------|\n",
    "| Jupyter            |\n",
    "| Anaconda           |\n",
    "| Git                |"
   ]
  },
  {
   "cell_type": "markdown",
   "id": "c6370519-5c2b-410b-8dad-83a555e4e936",
   "metadata": {},
   "source": [
    "### Below are a few examples of evaluating arithmetic expressions in Python"
   ]
  },
  {
   "cell_type": "code",
   "execution_count": 2,
   "id": "da979100-b583-485f-89f5-922f11e1d412",
   "metadata": {},
   "outputs": [
    {
     "data": {
      "text/plain": [
       "17"
      ]
     },
     "execution_count": 2,
     "metadata": {},
     "output_type": "execute_result"
    }
   ],
   "source": [
    "# This a simple arithmetic expression to multiply then add integers\n",
    "(3*4)+5"
   ]
  },
  {
   "cell_type": "code",
   "execution_count": 5,
   "id": "6b9cb158-4ae9-448e-80a9-d616b64c562d",
   "metadata": {},
   "outputs": [
    {
     "name": "stdout",
     "output_type": "stream",
     "text": [
      "3.3333333333333335\n"
     ]
    }
   ],
   "source": [
    "# This will convert 200 minutes to hours by diving by 60\n",
    "mins=200\n",
    "hrs=200/60\n",
    "print(hrs)"
   ]
  },
  {
   "cell_type": "code",
   "execution_count": null,
   "id": "683bddab-118b-46f0-92ef-c3c8487be6ff",
   "metadata": {},
   "outputs": [],
   "source": []
  }
 ],
 "metadata": {
  "kernelspec": {
   "display_name": "Python 3 (ipykernel)",
   "language": "python",
   "name": "python3"
  },
  "language_info": {
   "codemirror_mode": {
    "name": "ipython",
    "version": 3
   },
   "file_extension": ".py",
   "mimetype": "text/x-python",
   "name": "python",
   "nbconvert_exporter": "python",
   "pygments_lexer": "ipython3",
   "version": "3.12.8"
  }
 },
 "nbformat": 4,
 "nbformat_minor": 5
}
